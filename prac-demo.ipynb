{
 "cells": [
  {
   "cell_type": "code",
   "execution_count": 2,
   "id": "9d40eace-4d49-4064-b36e-ae6e032abd76",
   "metadata": {},
   "outputs": [
    {
     "name": "stderr",
     "output_type": "stream",
     "text": [
      "WARNING: File may have been truncated: actual file length (505320) is smaller than the expected size (506880) [astropy.io.fits.file]\n",
      "WARNING: The following header keyword is invalid or follows an unrecognized non-standard convention:\n",
      "DIAMETER =                    3  / TELESCOPE diameter                            [astropy.io.fits.card]\n"
     ]
    },
    {
     "data": {
      "image/png": "[encoded data removed]",
      "text/plain": [
       "<Figure size 432x288 with 1 Axes>"
      ]
     },
     "metadata": {
      "needs_background": "light"
     },
     "output_type": "display_data"
    }
   ],
   "source": [
    "from astropy.io import fits\n",
    "import os\n",
    "import matplotlib.pyplot as plt\n",
    "import numpy as np\n",
    "\n",
    "path=str(os.getcwd())+'/l_297_b_-15/'\n",
    "\n",
    "files=os.listdir(path)\n",
    "stack=np.zeros(1024)\n",
    "\n",
    "for file in files:\n",
    "    hdulist=fits.open(path+file)\n",
    "    hdr=hdulist[1].header\n",
    "    data=hdulist[1].data\n",
    "    \n",
    "    #hdulist.info()\n",
    "    #print(file)\n",
    "    #print(repr(hdulist[1].header))\n",
    "    #print(data.columns)\n",
    "    #print(data['RIGHT_POL'])\n",
    "    #print(data['STATUS'])\n",
    "    #print('\\n\\n')\n",
    "    \n",
    "    for col in data:\n",
    "        if col['STATUS'] != 'cal':\n",
    "            stack+=col['RIGHT_POL']\n",
    "\n",
    "plt.plot(stack/20)\n",
    "plt.show()            "
   ]
  },
  {
   "cell_type": "code",
   "execution_count": 5,
   "id": "6089cd69-a7bd-40c5-9d55-b8b560b8ef1a",
   "metadata": {},
   "outputs": [
    {
     "name": "stdout",
     "output_type": "stream",
     "text": [
      "[[-3.999200e+02 -0.000000e+00  1.422301e+03  2.107800e+01]\n",
      " [-3.988800e+02 -1.000000e-02  1.422296e+03  2.107807e+01]\n",
      " [-3.978500e+02 -1.000000e-02  1.422291e+03  2.107814e+01]\n",
      " ...\n",
      " [ 3.978500e+02 -1.000000e-02  1.418521e+03  2.113416e+01]\n",
      " [ 3.988800e+02 -1.000000e-02  1.418516e+03  2.113423e+01]\n",
      " [ 3.999200e+02 -0.000000e+00  1.418511e+03  2.113431e+01]]\n"
     ]
    }
   ],
   "source": [
    "bonn_calib=np.loadtxt('bonn_l_207_b_-15.txt',skiprows = 4)\n",
    "#print(bonn_calib)\n",
    "\n",
    "bonn_x = bonn_calib[:,2]\n",
    "bonn_y = bonn_calib[:,1]\n",
    "bonn_v = bonn_calib[:,0]\n",
    "\n",
    "xdata=np.linspace(1397.5+0.0305,1460-0.0305,dat.size)\n"
   ]
  },
  {
   "cell_type": "code",
   "execution_count": null,
   "id": "a24121d5-0c6d-4dc0-85e3-cfbb91b116da",
   "metadata": {},
   "outputs": [],
   "source": []
  },
  {
   "cell_type": "code",
   "execution_count": null,
   "id": "0fbe82af-47bb-4105-86a7-e1ad18d8d83f",
   "metadata": {},
   "outputs": [],
   "source": []
  }
 ],
 "metadata": {
  "kernelspec": {
   "display_name": "Python 3 (ipykernel)",
   "language": "python",
   "name": "python3"
  },
  "language_info": {
   "codemirror_mode": {
    "name": "ipython",
    "version": 3
   },
   "file_extension": ".py",
   "mimetype": "text/x-python",
   "name": "python",
   "nbconvert_exporter": "python",
   "pygments_lexer": "ipython3",
   "version": "3.9.6"
  }
 },
 "nbformat": 4,
 "nbformat_minor": 5
}
